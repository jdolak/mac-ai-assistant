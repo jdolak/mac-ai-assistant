{
 "cells": [
  {
   "cell_type": "code",
   "execution_count": 17,
   "metadata": {},
   "outputs": [],
   "source": [
    "import plotly.express as px\n",
    "import pandas as pd"
   ]
  },
  {
   "cell_type": "code",
   "execution_count": 20,
   "metadata": {},
   "outputs": [
    {
     "name": "stdout",
     "output_type": "stream",
     "text": [
      "\n"
     ]
    }
   ],
   "source": [
    "df = pd.read_csv(\"queries.log\", delimiter=\";\")\n",
    "df['time'].str.strip()\n",
    "df['action'].str.strip()\n",
    "df['prompt'].str.strip()\n",
    "print()"
   ]
  },
  {
   "cell_type": "code",
   "execution_count": 19,
   "metadata": {},
   "outputs": [
    {
     "data": {
      "application/vnd.plotly.v1+json": {
       "config": {
        "plotlyServerURL": "https://plot.ly"
       },
       "data": [
        {
         "alignmentgroup": "True",
         "bingroup": "x",
         "hovertemplate": "action= Calendar <br>time=%{x}<br>count=%{y}<extra></extra>",
         "legendgroup": " Calendar ",
         "marker": {
          "color": "#636efa",
          "opacity": 0.8,
          "pattern": {
           "shape": ""
          }
         },
         "name": " Calendar ",
         "offsetgroup": " Calendar ",
         "orientation": "v",
         "showlegend": true,
         "type": "histogram",
         "x": [
          "2024-03-27 10:44:47.986441 ",
          "2024-03-27 11:45:59.629277 ",
          "2024-03-27 12:18:38.571488 ",
          "2024-03-27 15:08:32.769271 ",
          "2024-03-28 13:44:23.469433 ",
          "2024-03-28 15:52:32.720631 ",
          "2024-03-29 21:25:45.891798 ",
          "2024-03-30 00:54:34.797087 ",
          "2024-04-02 21:00:41.920430 ",
          "2024-04-03 12:07:46.225113 ",
          "2024-04-03 16:47:50.695137 ",
          "2024-04-04 14:51:43.504003 ",
          "2024-04-04 14:52:56.579121 ",
          "2024-04-04 14:53:28.927060 ",
          "2024-04-04 14:56:41.657587 ",
          "2024-04-04 14:57:30.910623 ",
          "2024-04-05 14:58:16.523665 ",
          "2024-04-07 18:58:25.886327 ",
          "2024-04-09 14:22:35.839441 ",
          "2024-04-09 14:23:27.266146 ",
          "2024-04-09 20:22:51.663428 ",
          "2024-04-15 11:46:06.997184 ",
          "2024-04-15 11:46:31.305090 ",
          "2024-04-15 11:46:56.434347 ",
          "2024-04-17 09:45:18.745058 ",
          "2024-04-17 22:30:52.295710 ",
          "2024-04-20 01:31:42.459567 ",
          "2024-04-20 01:32:25.669914 ",
          "2024-04-20 21:22:08.779986 ",
          "2024-04-21 22:32:18.231393 ",
          "2024-04-21 22:32:50.586801 ",
          "2024-04-21 22:33:10.762190 "
         ],
         "xaxis": "x",
         "yaxis": "y"
        },
        {
         "alignmentgroup": "True",
         "bingroup": "x",
         "hovertemplate": "action= ERROR <br>time=%{x}<br>count=%{y}<extra></extra>",
         "legendgroup": " ERROR ",
         "marker": {
          "color": "#EF553B",
          "opacity": 0.8,
          "pattern": {
           "shape": ""
          }
         },
         "name": " ERROR ",
         "offsetgroup": " ERROR ",
         "orientation": "v",
         "showlegend": true,
         "type": "histogram",
         "x": [
          "2024-03-29 22:23:12.205642 ",
          "2024-03-30 00:12:18.250111 ",
          "2024-03-30 00:14:22.610849 ",
          "2024-03-30 00:45:21.252108 ",
          "2024-03-30 00:46:39.008115 ",
          "2024-03-30 00:55:35.859307 ",
          "2024-03-30 01:00:52.571223 ",
          "2024-04-13 18:04:31.680659 ",
          "2024-04-17 13:30:24.388778 ",
          "2024-04-17 13:30:42.123025 ",
          "2024-04-18 14:06:21.386145 "
         ],
         "xaxis": "x",
         "yaxis": "y"
        },
        {
         "alignmentgroup": "True",
         "bingroup": "x",
         "hovertemplate": "action= Messages <br>time=%{x}<br>count=%{y}<extra></extra>",
         "legendgroup": " Messages ",
         "marker": {
          "color": "#00cc96",
          "opacity": 0.8,
          "pattern": {
           "shape": ""
          }
         },
         "name": " Messages ",
         "offsetgroup": " Messages ",
         "orientation": "v",
         "showlegend": true,
         "type": "histogram",
         "x": [
          "2024-03-30 00:13:17.798767 ",
          "2024-03-30 00:16:36.399831 ",
          "2024-03-30 00:17:48.032357 ",
          "2024-03-30 00:57:36.449273 ",
          "2024-03-30 01:03:58.126360 ",
          "2024-04-03 15:19:16.049284 ",
          "2024-04-03 16:49:01.573383 ",
          "2024-04-13 17:56:33.506081 ",
          "2024-04-13 18:04:50.867700 ",
          "2024-04-13 18:05:14.486885 ",
          "2024-04-17 14:48:15.867018 ",
          "2024-04-18 14:06:43.679273 ",
          "2024-04-18 14:07:17.498300 ",
          "2024-04-21 22:41:44.292626 "
         ],
         "xaxis": "x",
         "yaxis": "y"
        },
        {
         "alignmentgroup": "True",
         "bingroup": "x",
         "hovertemplate": "action= Question <br>time=%{x}<br>count=%{y}<extra></extra>",
         "legendgroup": " Question ",
         "marker": {
          "color": "#ab63fa",
          "opacity": 0.8,
          "pattern": {
           "shape": ""
          }
         },
         "name": " Question ",
         "offsetgroup": " Question ",
         "orientation": "v",
         "showlegend": true,
         "type": "histogram",
         "x": [
          "2024-04-02 22:17:05.760557 ",
          "2024-04-03 12:16:44.095901 ",
          "2024-04-03 12:26:44.799295 ",
          "2024-04-03 12:29:03.749367 ",
          "2024-04-03 12:30:00.787343 ",
          "2024-04-03 19:14:38.261633 ",
          "2024-04-03 19:18:25.095951 ",
          "2024-04-03 19:22:16.525512 ",
          "2024-04-04 09:01:47.158436 ",
          "2024-04-04 20:18:23.646433 ",
          "2024-04-07 21:56:50.806908 ",
          "2024-04-07 22:54:56.462927 ",
          "2024-04-07 22:55:15.248509 ",
          "2024-04-08 10:17:51.846287 ",
          "2024-04-08 10:20:48.035250 ",
          "2024-04-08 10:21:17.777355 ",
          "2024-04-08 11:48:18.586691 ",
          "2024-04-08 23:08:27.731291 ",
          "2024-04-09 14:23:12.116727 ",
          "2024-04-09 22:38:13.639179 ",
          "2024-04-10 10:22:47.409792 ",
          "2024-04-10 14:18:10.672854 ",
          "2024-04-10 14:39:56.779929 ",
          "2024-04-10 14:40:35.151491 ",
          "2024-04-11 00:44:52.259999 ",
          "2024-04-11 00:45:07.510827 ",
          "2024-04-11 22:11:32.983739 ",
          "2024-04-12 14:10:30.451750 ",
          "2024-04-12 14:23:42.226631 ",
          "2024-04-12 14:24:10.385555 ",
          "2024-04-12 14:24:30.846545 ",
          "2024-04-12 14:25:11.415264 ",
          "2024-04-12 14:42:20.844630 ",
          "2024-04-12 15:11:01.581930 ",
          "2024-04-12 15:11:46.123436 ",
          "2024-04-12 15:12:05.478117 ",
          "2024-04-12 16:23:44.274374 ",
          "2024-04-12 16:56:35.915468 ",
          "2024-04-12 16:56:45.436584 ",
          "2024-04-12 20:51:22.953334 ",
          "2024-04-12 21:00:06.340159 ",
          "2024-04-13 17:38:05.971287 ",
          "2024-04-13 17:38:52.026817 ",
          "2024-04-13 17:39:12.766733 ",
          "2024-04-13 17:54:21.479129 ",
          "2024-04-13 21:45:01.974013 ",
          "2024-04-14 18:24:44.890059 ",
          "2024-04-14 18:25:13.965397 ",
          "2024-04-14 18:25:48.168102 ",
          "2024-04-14 18:43:17.171645 ",
          "2024-04-14 22:46:36.727952 ",
          "2024-04-14 22:46:56.940233 ",
          "2024-04-14 22:47:06.700872 ",
          "2024-04-14 22:50:45.531896 ",
          "2024-04-15 01:13:20.173295 ",
          "2024-04-15 12:08:13.054957 ",
          "2024-04-15 12:18:29.540338 ",
          "2024-04-15 12:19:15.502319 ",
          "2024-04-16 09:32:03.128773 ",
          "2024-04-16 09:50:18.376268 ",
          "2024-04-16 09:51:36.708877 ",
          "2024-04-16 09:51:54.705707 ",
          "2024-04-16 09:54:30.586207 ",
          "2024-04-16 14:07:21.343790 ",
          "2024-04-16 15:39:26.963327 ",
          "2024-04-17 14:31:47.283195 ",
          "2024-04-17 15:40:03.930531 ",
          "2024-04-17 19:30:33.818012 ",
          "2024-04-17 19:30:44.135764 ",
          "2024-04-17 20:44:18.646827 ",
          "2024-04-17 20:45:47.017354 ",
          "2024-04-17 20:47:29.412178 ",
          "2024-04-17 20:48:39.664921 ",
          "2024-04-17 20:56:10.636368 ",
          "2024-04-18 02:45:36.452779 ",
          "2024-04-18 02:45:56.826213 ",
          "2024-04-18 14:48:20.338127 ",
          "2024-04-18 14:52:20.664611 ",
          "2024-04-18 14:52:27.423930 ",
          "2024-04-18 14:59:18.968208 ",
          "2024-04-21 20:02:20.153890 ",
          "2024-04-21 22:31:31.131275 "
         ],
         "xaxis": "x",
         "yaxis": "y"
        },
        {
         "alignmentgroup": "True",
         "bingroup": "x",
         "hovertemplate": "action= Summary <br>time=%{x}<br>count=%{y}<extra></extra>",
         "legendgroup": " Summary ",
         "marker": {
          "color": "#FFA15A",
          "opacity": 0.8,
          "pattern": {
           "shape": ""
          }
         },
         "name": " Summary ",
         "offsetgroup": " Summary ",
         "orientation": "v",
         "showlegend": true,
         "type": "histogram",
         "x": [
          "2024-04-13 17:47:13.000000 ",
          "2024-04-15 15:30:21.000000 ",
          "2024-04-15 15:30:36.000000 ",
          "2024-04-15 15:30:48.000000 ",
          "2024-04-21 19:55:46.000000 ",
          "2024-04-21 19:56:21.000000 ",
          "2024-04-21 22:26:26.000000 ",
          "2024-04-21 22:27:27.000000 ",
          "2024-04-21 22:27:56.000000 ",
          "2024-04-21 23:04:44.000000 ",
          "2024-04-21 23:05:37.000000 ",
          "2024-04-21 23:07:38.000000 ",
          "2024-04-21 23:08:14.000000 ",
          "2024-04-21 23:09:33.000000 ",
          "2024-04-21 23:12:12.000000 "
         ],
         "xaxis": "x",
         "yaxis": "y"
        },
        {
         "alignmentgroup": "True",
         "bingroup": "x",
         "hovertemplate": "action= Proofread <br>time=%{x}<br>count=%{y}<extra></extra>",
         "legendgroup": " Proofread ",
         "marker": {
          "color": "#19d3f3",
          "opacity": 0.8,
          "pattern": {
           "shape": ""
          }
         },
         "name": " Proofread ",
         "offsetgroup": " Proofread ",
         "orientation": "v",
         "showlegend": true,
         "type": "histogram",
         "x": [
          "2024-04-15 15:31:10.000000 ",
          "2024-04-21 23:21:40.000000 ",
          "2024-04-21 23:22:37.000000 "
         ],
         "xaxis": "x",
         "yaxis": "y"
        },
        {
         "alignmentgroup": "True",
         "bingroup": "x",
         "hovertemplate": "action= reword <br>time=%{x}<br>count=%{y}<extra></extra>",
         "legendgroup": " reword ",
         "marker": {
          "color": "#FF6692",
          "opacity": 0.8,
          "pattern": {
           "shape": ""
          }
         },
         "name": " reword ",
         "offsetgroup": " reword ",
         "orientation": "v",
         "showlegend": true,
         "type": "histogram",
         "x": [
          "2024-04-17 13:31:33.398059 ",
          "2024-04-17 13:32:30.042030 ",
          "2024-04-17 13:34:16.624542 ",
          "2024-04-17 14:03:31.399960 ",
          "2024-04-17 15:29:19.865920 ",
          "2024-04-18 09:27:55.565162 ",
          "2024-04-18 09:27:56.931849 ",
          "2024-04-18 09:27:59.549047 ",
          "2024-04-18 09:28:28.038399 ",
          "2024-04-18 09:28:29.435005 ",
          "2024-04-18 09:53:42.569309 ",
          "2024-04-19 11:32:36.823187 ",
          "2024-04-19 11:32:56.955112 ",
          "2024-04-21 19:40:32.105077 ",
          "2024-04-21 23:16:59.942385 ",
          "2024-04-21 23:18:17.144236 ",
          "2024-04-21 23:23:46.250303 ",
          "2024-04-21 23:23:53.325016 "
         ],
         "xaxis": "x",
         "yaxis": "y"
        }
       ],
       "layout": {
        "bargap": 0.1,
        "barmode": "relative",
        "legend": {
         "title": {
          "text": "action"
         },
         "tracegroupgap": 0
        },
        "margin": {
         "t": 60
        },
        "template": {
         "data": {
          "bar": [
           {
            "error_x": {
             "color": "#2a3f5f"
            },
            "error_y": {
             "color": "#2a3f5f"
            },
            "marker": {
             "line": {
              "color": "#E5ECF6",
              "width": 0.5
             },
             "pattern": {
              "fillmode": "overlay",
              "size": 10,
              "solidity": 0.2
             }
            },
            "type": "bar"
           }
          ],
          "barpolar": [
           {
            "marker": {
             "line": {
              "color": "#E5ECF6",
              "width": 0.5
             },
             "pattern": {
              "fillmode": "overlay",
              "size": 10,
              "solidity": 0.2
             }
            },
            "type": "barpolar"
           }
          ],
          "carpet": [
           {
            "aaxis": {
             "endlinecolor": "#2a3f5f",
             "gridcolor": "white",
             "linecolor": "white",
             "minorgridcolor": "white",
             "startlinecolor": "#2a3f5f"
            },
            "baxis": {
             "endlinecolor": "#2a3f5f",
             "gridcolor": "white",
             "linecolor": "white",
             "minorgridcolor": "white",
             "startlinecolor": "#2a3f5f"
            },
            "type": "carpet"
           }
          ],
          "choropleth": [
           {
            "colorbar": {
             "outlinewidth": 0,
             "ticks": ""
            },
            "type": "choropleth"
           }
          ],
          "contour": [
           {
            "colorbar": {
             "outlinewidth": 0,
             "ticks": ""
            },
            "colorscale": [
             [
              0,
              "#0d0887"
             ],
             [
              0.1111111111111111,
              "#46039f"
             ],
             [
              0.2222222222222222,
              "#7201a8"
             ],
             [
              0.3333333333333333,
              "#9c179e"
             ],
             [
              0.4444444444444444,
              "#bd3786"
             ],
             [
              0.5555555555555556,
              "#d8576b"
             ],
             [
              0.6666666666666666,
              "#ed7953"
             ],
             [
              0.7777777777777778,
              "#fb9f3a"
             ],
             [
              0.8888888888888888,
              "#fdca26"
             ],
             [
              1,
              "#f0f921"
             ]
            ],
            "type": "contour"
           }
          ],
          "contourcarpet": [
           {
            "colorbar": {
             "outlinewidth": 0,
             "ticks": ""
            },
            "type": "contourcarpet"
           }
          ],
          "heatmap": [
           {
            "colorbar": {
             "outlinewidth": 0,
             "ticks": ""
            },
            "colorscale": [
             [
              0,
              "#0d0887"
             ],
             [
              0.1111111111111111,
              "#46039f"
             ],
             [
              0.2222222222222222,
              "#7201a8"
             ],
             [
              0.3333333333333333,
              "#9c179e"
             ],
             [
              0.4444444444444444,
              "#bd3786"
             ],
             [
              0.5555555555555556,
              "#d8576b"
             ],
             [
              0.6666666666666666,
              "#ed7953"
             ],
             [
              0.7777777777777778,
              "#fb9f3a"
             ],
             [
              0.8888888888888888,
              "#fdca26"
             ],
             [
              1,
              "#f0f921"
             ]
            ],
            "type": "heatmap"
           }
          ],
          "heatmapgl": [
           {
            "colorbar": {
             "outlinewidth": 0,
             "ticks": ""
            },
            "colorscale": [
             [
              0,
              "#0d0887"
             ],
             [
              0.1111111111111111,
              "#46039f"
             ],
             [
              0.2222222222222222,
              "#7201a8"
             ],
             [
              0.3333333333333333,
              "#9c179e"
             ],
             [
              0.4444444444444444,
              "#bd3786"
             ],
             [
              0.5555555555555556,
              "#d8576b"
             ],
             [
              0.6666666666666666,
              "#ed7953"
             ],
             [
              0.7777777777777778,
              "#fb9f3a"
             ],
             [
              0.8888888888888888,
              "#fdca26"
             ],
             [
              1,
              "#f0f921"
             ]
            ],
            "type": "heatmapgl"
           }
          ],
          "histogram": [
           {
            "marker": {
             "pattern": {
              "fillmode": "overlay",
              "size": 10,
              "solidity": 0.2
             }
            },
            "type": "histogram"
           }
          ],
          "histogram2d": [
           {
            "colorbar": {
             "outlinewidth": 0,
             "ticks": ""
            },
            "colorscale": [
             [
              0,
              "#0d0887"
             ],
             [
              0.1111111111111111,
              "#46039f"
             ],
             [
              0.2222222222222222,
              "#7201a8"
             ],
             [
              0.3333333333333333,
              "#9c179e"
             ],
             [
              0.4444444444444444,
              "#bd3786"
             ],
             [
              0.5555555555555556,
              "#d8576b"
             ],
             [
              0.6666666666666666,
              "#ed7953"
             ],
             [
              0.7777777777777778,
              "#fb9f3a"
             ],
             [
              0.8888888888888888,
              "#fdca26"
             ],
             [
              1,
              "#f0f921"
             ]
            ],
            "type": "histogram2d"
           }
          ],
          "histogram2dcontour": [
           {
            "colorbar": {
             "outlinewidth": 0,
             "ticks": ""
            },
            "colorscale": [
             [
              0,
              "#0d0887"
             ],
             [
              0.1111111111111111,
              "#46039f"
             ],
             [
              0.2222222222222222,
              "#7201a8"
             ],
             [
              0.3333333333333333,
              "#9c179e"
             ],
             [
              0.4444444444444444,
              "#bd3786"
             ],
             [
              0.5555555555555556,
              "#d8576b"
             ],
             [
              0.6666666666666666,
              "#ed7953"
             ],
             [
              0.7777777777777778,
              "#fb9f3a"
             ],
             [
              0.8888888888888888,
              "#fdca26"
             ],
             [
              1,
              "#f0f921"
             ]
            ],
            "type": "histogram2dcontour"
           }
          ],
          "mesh3d": [
           {
            "colorbar": {
             "outlinewidth": 0,
             "ticks": ""
            },
            "type": "mesh3d"
           }
          ],
          "parcoords": [
           {
            "line": {
             "colorbar": {
              "outlinewidth": 0,
              "ticks": ""
             }
            },
            "type": "parcoords"
           }
          ],
          "pie": [
           {
            "automargin": true,
            "type": "pie"
           }
          ],
          "scatter": [
           {
            "fillpattern": {
             "fillmode": "overlay",
             "size": 10,
             "solidity": 0.2
            },
            "type": "scatter"
           }
          ],
          "scatter3d": [
           {
            "line": {
             "colorbar": {
              "outlinewidth": 0,
              "ticks": ""
             }
            },
            "marker": {
             "colorbar": {
              "outlinewidth": 0,
              "ticks": ""
             }
            },
            "type": "scatter3d"
           }
          ],
          "scattercarpet": [
           {
            "marker": {
             "colorbar": {
              "outlinewidth": 0,
              "ticks": ""
             }
            },
            "type": "scattercarpet"
           }
          ],
          "scattergeo": [
           {
            "marker": {
             "colorbar": {
              "outlinewidth": 0,
              "ticks": ""
             }
            },
            "type": "scattergeo"
           }
          ],
          "scattergl": [
           {
            "marker": {
             "colorbar": {
              "outlinewidth": 0,
              "ticks": ""
             }
            },
            "type": "scattergl"
           }
          ],
          "scattermapbox": [
           {
            "marker": {
             "colorbar": {
              "outlinewidth": 0,
              "ticks": ""
             }
            },
            "type": "scattermapbox"
           }
          ],
          "scatterpolar": [
           {
            "marker": {
             "colorbar": {
              "outlinewidth": 0,
              "ticks": ""
             }
            },
            "type": "scatterpolar"
           }
          ],
          "scatterpolargl": [
           {
            "marker": {
             "colorbar": {
              "outlinewidth": 0,
              "ticks": ""
             }
            },
            "type": "scatterpolargl"
           }
          ],
          "scatterternary": [
           {
            "marker": {
             "colorbar": {
              "outlinewidth": 0,
              "ticks": ""
             }
            },
            "type": "scatterternary"
           }
          ],
          "surface": [
           {
            "colorbar": {
             "outlinewidth": 0,
             "ticks": ""
            },
            "colorscale": [
             [
              0,
              "#0d0887"
             ],
             [
              0.1111111111111111,
              "#46039f"
             ],
             [
              0.2222222222222222,
              "#7201a8"
             ],
             [
              0.3333333333333333,
              "#9c179e"
             ],
             [
              0.4444444444444444,
              "#bd3786"
             ],
             [
              0.5555555555555556,
              "#d8576b"
             ],
             [
              0.6666666666666666,
              "#ed7953"
             ],
             [
              0.7777777777777778,
              "#fb9f3a"
             ],
             [
              0.8888888888888888,
              "#fdca26"
             ],
             [
              1,
              "#f0f921"
             ]
            ],
            "type": "surface"
           }
          ],
          "table": [
           {
            "cells": {
             "fill": {
              "color": "#EBF0F8"
             },
             "line": {
              "color": "white"
             }
            },
            "header": {
             "fill": {
              "color": "#C8D4E3"
             },
             "line": {
              "color": "white"
             }
            },
            "type": "table"
           }
          ]
         },
         "layout": {
          "annotationdefaults": {
           "arrowcolor": "#2a3f5f",
           "arrowhead": 0,
           "arrowwidth": 1
          },
          "autotypenumbers": "strict",
          "coloraxis": {
           "colorbar": {
            "outlinewidth": 0,
            "ticks": ""
           }
          },
          "colorscale": {
           "diverging": [
            [
             0,
             "#8e0152"
            ],
            [
             0.1,
             "#c51b7d"
            ],
            [
             0.2,
             "#de77ae"
            ],
            [
             0.3,
             "#f1b6da"
            ],
            [
             0.4,
             "#fde0ef"
            ],
            [
             0.5,
             "#f7f7f7"
            ],
            [
             0.6,
             "#e6f5d0"
            ],
            [
             0.7,
             "#b8e186"
            ],
            [
             0.8,
             "#7fbc41"
            ],
            [
             0.9,
             "#4d9221"
            ],
            [
             1,
             "#276419"
            ]
           ],
           "sequential": [
            [
             0,
             "#0d0887"
            ],
            [
             0.1111111111111111,
             "#46039f"
            ],
            [
             0.2222222222222222,
             "#7201a8"
            ],
            [
             0.3333333333333333,
             "#9c179e"
            ],
            [
             0.4444444444444444,
             "#bd3786"
            ],
            [
             0.5555555555555556,
             "#d8576b"
            ],
            [
             0.6666666666666666,
             "#ed7953"
            ],
            [
             0.7777777777777778,
             "#fb9f3a"
            ],
            [
             0.8888888888888888,
             "#fdca26"
            ],
            [
             1,
             "#f0f921"
            ]
           ],
           "sequentialminus": [
            [
             0,
             "#0d0887"
            ],
            [
             0.1111111111111111,
             "#46039f"
            ],
            [
             0.2222222222222222,
             "#7201a8"
            ],
            [
             0.3333333333333333,
             "#9c179e"
            ],
            [
             0.4444444444444444,
             "#bd3786"
            ],
            [
             0.5555555555555556,
             "#d8576b"
            ],
            [
             0.6666666666666666,
             "#ed7953"
            ],
            [
             0.7777777777777778,
             "#fb9f3a"
            ],
            [
             0.8888888888888888,
             "#fdca26"
            ],
            [
             1,
             "#f0f921"
            ]
           ]
          },
          "colorway": [
           "#636efa",
           "#EF553B",
           "#00cc96",
           "#ab63fa",
           "#FFA15A",
           "#19d3f3",
           "#FF6692",
           "#B6E880",
           "#FF97FF",
           "#FECB52"
          ],
          "font": {
           "color": "#2a3f5f"
          },
          "geo": {
           "bgcolor": "white",
           "lakecolor": "white",
           "landcolor": "#E5ECF6",
           "showlakes": true,
           "showland": true,
           "subunitcolor": "white"
          },
          "hoverlabel": {
           "align": "left"
          },
          "hovermode": "closest",
          "mapbox": {
           "style": "light"
          },
          "paper_bgcolor": "white",
          "plot_bgcolor": "#E5ECF6",
          "polar": {
           "angularaxis": {
            "gridcolor": "white",
            "linecolor": "white",
            "ticks": ""
           },
           "bgcolor": "#E5ECF6",
           "radialaxis": {
            "gridcolor": "white",
            "linecolor": "white",
            "ticks": ""
           }
          },
          "scene": {
           "xaxis": {
            "backgroundcolor": "#E5ECF6",
            "gridcolor": "white",
            "gridwidth": 2,
            "linecolor": "white",
            "showbackground": true,
            "ticks": "",
            "zerolinecolor": "white"
           },
           "yaxis": {
            "backgroundcolor": "#E5ECF6",
            "gridcolor": "white",
            "gridwidth": 2,
            "linecolor": "white",
            "showbackground": true,
            "ticks": "",
            "zerolinecolor": "white"
           },
           "zaxis": {
            "backgroundcolor": "#E5ECF6",
            "gridcolor": "white",
            "gridwidth": 2,
            "linecolor": "white",
            "showbackground": true,
            "ticks": "",
            "zerolinecolor": "white"
           }
          },
          "shapedefaults": {
           "line": {
            "color": "#2a3f5f"
           }
          },
          "ternary": {
           "aaxis": {
            "gridcolor": "white",
            "linecolor": "white",
            "ticks": ""
           },
           "baxis": {
            "gridcolor": "white",
            "linecolor": "white",
            "ticks": ""
           },
           "bgcolor": "#E5ECF6",
           "caxis": {
            "gridcolor": "white",
            "linecolor": "white",
            "ticks": ""
           }
          },
          "title": {
           "x": 0.05
          },
          "xaxis": {
           "automargin": true,
           "gridcolor": "white",
           "linecolor": "white",
           "ticks": "",
           "title": {
            "standoff": 15
           },
           "zerolinecolor": "white",
           "zerolinewidth": 2
          },
          "yaxis": {
           "automargin": true,
           "gridcolor": "white",
           "linecolor": "white",
           "ticks": "",
           "title": {
            "standoff": 15
           },
           "zerolinecolor": "white",
           "zerolinewidth": 2
          }
         }
        },
        "xaxis": {
         "anchor": "y",
         "domain": [
          0,
          1
         ],
         "title": {
          "text": "time"
         }
        },
        "yaxis": {
         "anchor": "x",
         "domain": [
          0,
          1
         ],
         "title": {
          "text": "count"
         }
        }
       }
      }
     },
     "metadata": {},
     "output_type": "display_data"
    }
   ],
   "source": [
    "fig = px.histogram(df, x=\"time\", color=\"action\", opacity=0.8)\n",
    "fig.update_layout(bargap=0.1)\n",
    "fig.show()"
   ]
  }
 ],
 "metadata": {
  "kernelspec": {
   "display_name": "base",
   "language": "python",
   "name": "python3"
  },
  "language_info": {
   "codemirror_mode": {
    "name": "ipython",
    "version": 3
   },
   "file_extension": ".py",
   "mimetype": "text/x-python",
   "name": "python",
   "nbconvert_exporter": "python",
   "pygments_lexer": "ipython3",
   "version": "3.10.12"
  }
 },
 "nbformat": 4,
 "nbformat_minor": 2
}
